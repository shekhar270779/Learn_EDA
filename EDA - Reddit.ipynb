{
 "cells": [
  {
   "cell_type": "markdown",
   "metadata": {},
   "source": [
    "**Reddit** is an American social news aggregation, web content rating, and discussion website. Registered members submit content to the site such as links, text posts, and images, which are then voted up or down by other members."
   ]
  },
  {
   "cell_type": "code",
   "execution_count": 110,
   "metadata": {},
   "outputs": [],
   "source": [
    "# import libraries\n",
    "\n",
    "import numpy as np\n",
    "import pandas as pd\n",
    "import matplotlib.pyplot as plt\n",
    "import seaborn as sns\n",
    "\n",
    "import warnings\n",
    "warnings.filterwarnings('ignore')\n",
    "\n",
    "%matplotlib inline"
   ]
  },
  {
   "cell_type": "code",
   "execution_count": 111,
   "metadata": {},
   "outputs": [],
   "source": [
    "# Set format upto 2 decimal places\n",
    "pd.options.display.float_format = \"{:,.2f}\".format"
   ]
  },
  {
   "cell_type": "code",
   "execution_count": 112,
   "metadata": {},
   "outputs": [],
   "source": [
    "# load data\n",
    "df = pd.read_csv(r'./data/Reddit.csv')"
   ]
  },
  {
   "cell_type": "code",
   "execution_count": 115,
   "metadata": {},
   "outputs": [
    {
     "name": "stdout",
     "output_type": "stream",
     "text": [
      "Dataset has 183891 rows, 12 columns\n"
     ]
    }
   ],
   "source": [
    "# check dimensions of data\n",
    "nrows, ncols = df.shape\n",
    "print(f\"Dataset has {nrows} rows, {ncols} columns\")"
   ]
  },
  {
   "cell_type": "code",
   "execution_count": 116,
   "metadata": {},
   "outputs": [
    {
     "data": {
      "text/plain": [
       "id                        object\n",
       "title                     object\n",
       "score                      int64\n",
       "author                    object\n",
       "author_flair_text         object\n",
       "removed_by                object\n",
       "total_awards_received    float64\n",
       "awarders                  object\n",
       "created_utc                int64\n",
       "full_link                 object\n",
       "num_comments               int64\n",
       "over_18                     bool\n",
       "dtype: object"
      ]
     },
     "execution_count": 116,
     "metadata": {},
     "output_type": "execute_result"
    }
   ],
   "source": [
    "# check datatypes of columns\n",
    "df.dtypes"
   ]
  },
  {
   "cell_type": "code",
   "execution_count": 117,
   "metadata": {},
   "outputs": [
    {
     "data": {
      "text/html": [
       "<div>\n",
       "<style scoped>\n",
       "    .dataframe tbody tr th:only-of-type {\n",
       "        vertical-align: middle;\n",
       "    }\n",
       "\n",
       "    .dataframe tbody tr th {\n",
       "        vertical-align: top;\n",
       "    }\n",
       "\n",
       "    .dataframe thead th {\n",
       "        text-align: right;\n",
       "    }\n",
       "</style>\n",
       "<table border=\"1\" class=\"dataframe\">\n",
       "  <thead>\n",
       "    <tr style=\"text-align: right;\">\n",
       "      <th></th>\n",
       "      <th>id</th>\n",
       "      <th>title</th>\n",
       "      <th>score</th>\n",
       "      <th>author</th>\n",
       "      <th>author_flair_text</th>\n",
       "      <th>removed_by</th>\n",
       "      <th>total_awards_received</th>\n",
       "      <th>awarders</th>\n",
       "      <th>created_utc</th>\n",
       "      <th>full_link</th>\n",
       "      <th>num_comments</th>\n",
       "      <th>over_18</th>\n",
       "    </tr>\n",
       "  </thead>\n",
       "  <tbody>\n",
       "    <tr>\n",
       "      <th>0</th>\n",
       "      <td>hbyv2e</td>\n",
       "      <td>[OC] How Bar Chart Race Animation Can be Creat...</td>\n",
       "      <td>1</td>\n",
       "      <td>Tom10AE</td>\n",
       "      <td>NaN</td>\n",
       "      <td>NaN</td>\n",
       "      <td>0.00</td>\n",
       "      <td>[]</td>\n",
       "      <td>1592565317</td>\n",
       "      <td>https://www.reddit.com/r/dataisbeautiful/comme...</td>\n",
       "      <td>0</td>\n",
       "      <td>False</td>\n",
       "    </tr>\n",
       "    <tr>\n",
       "      <th>1</th>\n",
       "      <td>hbynoy</td>\n",
       "      <td>[UK] Labour and Conservative vote share by age...</td>\n",
       "      <td>1</td>\n",
       "      <td>Ge0rgeBr0ughton</td>\n",
       "      <td>NaN</td>\n",
       "      <td>NaN</td>\n",
       "      <td>0.00</td>\n",
       "      <td>[]</td>\n",
       "      <td>1592564316</td>\n",
       "      <td>https://www.reddit.com/r/dataisbeautiful/comme...</td>\n",
       "      <td>1</td>\n",
       "      <td>False</td>\n",
       "    </tr>\n",
       "    <tr>\n",
       "      <th>2</th>\n",
       "      <td>hbym2y</td>\n",
       "      <td>[NOC] Number of wallets returned across the wo...</td>\n",
       "      <td>1</td>\n",
       "      <td>i_am_shattered</td>\n",
       "      <td>NaN</td>\n",
       "      <td>NaN</td>\n",
       "      <td>0.00</td>\n",
       "      <td>[]</td>\n",
       "      <td>1592564089</td>\n",
       "      <td>https://www.reddit.com/r/dataisbeautiful/comme...</td>\n",
       "      <td>1</td>\n",
       "      <td>False</td>\n",
       "    </tr>\n",
       "  </tbody>\n",
       "</table>\n",
       "</div>"
      ],
      "text/plain": [
       "       id                                              title  score  \\\n",
       "0  hbyv2e  [OC] How Bar Chart Race Animation Can be Creat...      1   \n",
       "1  hbynoy  [UK] Labour and Conservative vote share by age...      1   \n",
       "2  hbym2y  [NOC] Number of wallets returned across the wo...      1   \n",
       "\n",
       "            author author_flair_text removed_by  total_awards_received  \\\n",
       "0          Tom10AE               NaN        NaN                   0.00   \n",
       "1  Ge0rgeBr0ughton               NaN        NaN                   0.00   \n",
       "2   i_am_shattered               NaN        NaN                   0.00   \n",
       "\n",
       "  awarders  created_utc                                          full_link  \\\n",
       "0       []   1592565317  https://www.reddit.com/r/dataisbeautiful/comme...   \n",
       "1       []   1592564316  https://www.reddit.com/r/dataisbeautiful/comme...   \n",
       "2       []   1592564089  https://www.reddit.com/r/dataisbeautiful/comme...   \n",
       "\n",
       "   num_comments  over_18  \n",
       "0             0    False  \n",
       "1             1    False  \n",
       "2             1    False  "
      ]
     },
     "execution_count": 117,
     "metadata": {},
     "output_type": "execute_result"
    }
   ],
   "source": [
    "# Glance first few records\n",
    "df.head(n = 3)"
   ]
  },
  {
   "cell_type": "code",
   "execution_count": 118,
   "metadata": {},
   "outputs": [
    {
     "data": {
      "text/plain": [
       "id                       0.00\n",
       "title                    0.00\n",
       "score                    0.00\n",
       "author                   0.00\n",
       "author_flair_text       87.00\n",
       "removed_by              94.00\n",
       "total_awards_received   76.00\n",
       "awarders                82.00\n",
       "created_utc              0.00\n",
       "full_link                0.00\n",
       "num_comments             0.00\n",
       "over_18                  0.00\n",
       "dtype: float64"
      ]
     },
     "execution_count": 118,
     "metadata": {},
     "output_type": "execute_result"
    }
   ],
   "source": [
    "# Check % of missing data\n",
    "np.round((df.isna().sum()/df.shape[0])*100,0)"
   ]
  },
  {
   "cell_type": "markdown",
   "metadata": {},
   "source": [
    "* Columns author_flair_text, removed_by, total_awards_received, awarders  having high % of  null values\n",
    "* Before we drop these columns, lets find top 5 values of these columns"
   ]
  },
  {
   "cell_type": "code",
   "execution_count": 119,
   "metadata": {},
   "outputs": [
    {
     "data": {
      "text/plain": [
       "OC: 1               8090\n",
       "OC: 2               3004\n",
       "Viz Practitioner    2045\n",
       "Name: author_flair_text, dtype: int64"
      ]
     },
     "execution_count": 119,
     "metadata": {},
     "output_type": "execute_result"
    }
   ],
   "source": [
    "# top 3 values of author_flair_text\n",
    "\n",
    "df['author_flair_text'].value_counts().iloc[:3]"
   ]
  },
  {
   "cell_type": "code",
   "execution_count": 121,
   "metadata": {},
   "outputs": [
    {
     "data": {
      "text/plain": [
       "moderator           8030\n",
       "deleted             1714\n",
       "automod_filtered     960\n",
       "Name: removed_by, dtype: int64"
      ]
     },
     "execution_count": 121,
     "metadata": {},
     "output_type": "execute_result"
    }
   ],
   "source": [
    "# top 3 values of removed_by\n",
    "\n",
    "df['removed_by'].value_counts().iloc[:3]"
   ]
  },
  {
   "cell_type": "code",
   "execution_count": 125,
   "metadata": {},
   "outputs": [
    {
     "data": {
      "text/plain": [
       "0.00    43941\n",
       "1.00       38\n",
       "2.00        8\n",
       "Name: total_awards_received, dtype: int64"
      ]
     },
     "execution_count": 125,
     "metadata": {},
     "output_type": "execute_result"
    }
   ],
   "source": [
    "# top 3 frequent values of total_awards_received\n",
    "\n",
    "df['total_awards_received'].value_counts().iloc[:3]"
   ]
  },
  {
   "cell_type": "code",
   "execution_count": 126,
   "metadata": {},
   "outputs": [
    {
     "data": {
      "text/plain": [
       "[]                     33331\n",
       "['stompstumpstamp']        1\n",
       "Name: awarders, dtype: int64"
      ]
     },
     "execution_count": 126,
     "metadata": {},
     "output_type": "execute_result"
    }
   ],
   "source": [
    "# top 3 frequest values of awarders\n",
    "\n",
    "df['awarders'].value_counts().iloc[:3]"
   ]
  },
  {
   "cell_type": "markdown",
   "metadata": {},
   "source": [
    "<b> Dropping columns </b>"
   ]
  },
  {
   "cell_type": "code",
   "execution_count": 127,
   "metadata": {},
   "outputs": [],
   "source": [
    "df.drop(['author_flair_text', 'removed_by', 'total_awards_received', 'awarders'], axis=1, inplace=True)"
   ]
  },
  {
   "cell_type": "code",
   "execution_count": 128,
   "metadata": {},
   "outputs": [
    {
     "data": {
      "text/plain": [
       "id              0\n",
       "title           1\n",
       "score           0\n",
       "author          0\n",
       "created_utc     0\n",
       "full_link       0\n",
       "num_comments    0\n",
       "over_18         0\n",
       "dtype: int64"
      ]
     },
     "execution_count": 128,
     "metadata": {},
     "output_type": "execute_result"
    }
   ],
   "source": [
    "# Check if we still have any missing values\n",
    "df.isna().sum()"
   ]
  },
  {
   "cell_type": "code",
   "execution_count": 129,
   "metadata": {},
   "outputs": [],
   "source": [
    "# lets drop 1 row which has missing values \n",
    "df = df.dropna(axis=0, how='any')"
   ]
  },
  {
   "cell_type": "code",
   "execution_count": 130,
   "metadata": {},
   "outputs": [
    {
     "data": {
      "text/plain": [
       "id              0\n",
       "title           0\n",
       "score           0\n",
       "author          0\n",
       "created_utc     0\n",
       "full_link       0\n",
       "num_comments    0\n",
       "over_18         0\n",
       "dtype: int64"
      ]
     },
     "execution_count": 130,
     "metadata": {},
     "output_type": "execute_result"
    }
   ],
   "source": [
    "df.isna().sum()"
   ]
  },
  {
   "cell_type": "code",
   "execution_count": 134,
   "metadata": {},
   "outputs": [
    {
     "data": {
      "text/plain": [
       "True"
      ]
     },
     "execution_count": 134,
     "metadata": {},
     "output_type": "execute_result"
    }
   ],
   "source": [
    "# check if id is quieue\n",
    "len(df) == len(df.id)"
   ]
  },
  {
   "cell_type": "code",
   "execution_count": 136,
   "metadata": {},
   "outputs": [],
   "source": [
    "# Since id is a unique column , so lets make it as index of df\n",
    "df.set_index('id', inplace = True)"
   ]
  },
  {
   "cell_type": "code",
   "execution_count": 137,
   "metadata": {},
   "outputs": [
    {
     "data": {
      "text/html": [
       "<div>\n",
       "<style scoped>\n",
       "    .dataframe tbody tr th:only-of-type {\n",
       "        vertical-align: middle;\n",
       "    }\n",
       "\n",
       "    .dataframe tbody tr th {\n",
       "        vertical-align: top;\n",
       "    }\n",
       "\n",
       "    .dataframe thead th {\n",
       "        text-align: right;\n",
       "    }\n",
       "</style>\n",
       "<table border=\"1\" class=\"dataframe\">\n",
       "  <thead>\n",
       "    <tr style=\"text-align: right;\">\n",
       "      <th></th>\n",
       "      <th>title</th>\n",
       "      <th>score</th>\n",
       "      <th>author</th>\n",
       "      <th>created_utc</th>\n",
       "      <th>full_link</th>\n",
       "      <th>num_comments</th>\n",
       "      <th>over_18</th>\n",
       "    </tr>\n",
       "    <tr>\n",
       "      <th>id</th>\n",
       "      <th></th>\n",
       "      <th></th>\n",
       "      <th></th>\n",
       "      <th></th>\n",
       "      <th></th>\n",
       "      <th></th>\n",
       "      <th></th>\n",
       "    </tr>\n",
       "  </thead>\n",
       "  <tbody>\n",
       "    <tr>\n",
       "      <th>hbyv2e</th>\n",
       "      <td>[OC] How Bar Chart Race Animation Can be Creat...</td>\n",
       "      <td>1</td>\n",
       "      <td>Tom10AE</td>\n",
       "      <td>1592565317</td>\n",
       "      <td>https://www.reddit.com/r/dataisbeautiful/comme...</td>\n",
       "      <td>0</td>\n",
       "      <td>False</td>\n",
       "    </tr>\n",
       "    <tr>\n",
       "      <th>hbynoy</th>\n",
       "      <td>[UK] Labour and Conservative vote share by age...</td>\n",
       "      <td>1</td>\n",
       "      <td>Ge0rgeBr0ughton</td>\n",
       "      <td>1592564316</td>\n",
       "      <td>https://www.reddit.com/r/dataisbeautiful/comme...</td>\n",
       "      <td>1</td>\n",
       "      <td>False</td>\n",
       "    </tr>\n",
       "    <tr>\n",
       "      <th>hbym2y</th>\n",
       "      <td>[NOC] Number of wallets returned across the wo...</td>\n",
       "      <td>1</td>\n",
       "      <td>i_am_shattered</td>\n",
       "      <td>1592564089</td>\n",
       "      <td>https://www.reddit.com/r/dataisbeautiful/comme...</td>\n",
       "      <td>1</td>\n",
       "      <td>False</td>\n",
       "    </tr>\n",
       "  </tbody>\n",
       "</table>\n",
       "</div>"
      ],
      "text/plain": [
       "                                                    title  score  \\\n",
       "id                                                                 \n",
       "hbyv2e  [OC] How Bar Chart Race Animation Can be Creat...      1   \n",
       "hbynoy  [UK] Labour and Conservative vote share by age...      1   \n",
       "hbym2y  [NOC] Number of wallets returned across the wo...      1   \n",
       "\n",
       "                 author  created_utc  \\\n",
       "id                                     \n",
       "hbyv2e          Tom10AE   1592565317   \n",
       "hbynoy  Ge0rgeBr0ughton   1592564316   \n",
       "hbym2y   i_am_shattered   1592564089   \n",
       "\n",
       "                                                full_link  num_comments  \\\n",
       "id                                                                        \n",
       "hbyv2e  https://www.reddit.com/r/dataisbeautiful/comme...             0   \n",
       "hbynoy  https://www.reddit.com/r/dataisbeautiful/comme...             1   \n",
       "hbym2y  https://www.reddit.com/r/dataisbeautiful/comme...             1   \n",
       "\n",
       "        over_18  \n",
       "id               \n",
       "hbyv2e    False  \n",
       "hbynoy    False  \n",
       "hbym2y    False  "
      ]
     },
     "execution_count": 137,
     "metadata": {},
     "output_type": "execute_result"
    }
   ],
   "source": [
    "# glance at dataset \n",
    "df.head(n = 3)"
   ]
  },
  {
   "cell_type": "markdown",
   "metadata": {},
   "source": [
    "**Let's start with `author` column**"
   ]
  },
  {
   "cell_type": "code",
   "execution_count": 142,
   "metadata": {},
   "outputs": [
    {
     "data": {
      "text/plain": [
       "author\n",
       "[deleted]     28596\n",
       "jimrosenz      2293\n",
       "OverflowDs      484\n",
       "RAGTIMEMA       325\n",
       "rhiever         323\n",
       "dtype: int64"
      ]
     },
     "execution_count": 142,
     "metadata": {},
     "output_type": "execute_result"
    }
   ],
   "source": [
    "# top 5 authores in terms of number of rows/recs/datapoints\n",
    "df.groupby('author').size().sort_values(ascending=False).head(5)"
   ]
  },
  {
   "cell_type": "markdown",
   "metadata": {},
   "source": [
    "As there are author, that are given name as \"[deleted]\", so i will drop those recs, so we have only those recs with valid author names"
   ]
  },
  {
   "cell_type": "code",
   "execution_count": 144,
   "metadata": {},
   "outputs": [],
   "source": [
    "# Delete records based on index of recs where authore name is '[deleted]'\n",
    "df.drop(index = df.index[df['author'] == '[deleted]'], inplace=True)"
   ]
  },
  {
   "cell_type": "code",
   "execution_count": 145,
   "metadata": {},
   "outputs": [
    {
     "name": "stdout",
     "output_type": "stream",
     "text": [
      "Dataset has 155294 rows, 7 columns\n"
     ]
    }
   ],
   "source": [
    "# check dimensions of data\n",
    "nrows, ncols = df.shape\n",
    "print(f\"Dataset has {nrows} rows, {ncols} columns\")"
   ]
  },
  {
   "cell_type": "code",
   "execution_count": 147,
   "metadata": {},
   "outputs": [],
   "source": [
    "# set author and title columns as upper case , to avoid dups due to case mismatch\n",
    "\n",
    "df.title = df.title.str.upper()\n",
    "df.author = df.author.str.upper()"
   ]
  },
  {
   "cell_type": "markdown",
   "metadata": {},
   "source": [
    "<b>Top 5 authors who made a post</b>"
   ]
  },
  {
   "cell_type": "code",
   "execution_count": 150,
   "metadata": {
    "scrolled": true
   },
   "outputs": [
    {
     "name": "stdout",
     "output_type": "stream",
     "text": [
      "author\n",
      "JIMROSENZ     2293\n",
      "OVERFLOWDS     484\n",
      "RAGTIMEMA      325\n",
      "RHIEVER        323\n",
      "CAOBANLONG     314\n",
      "dtype: int64\n"
     ]
    }
   ],
   "source": [
    "top5_auth_by_posts = df.groupby('author').size().sort_values(ascending = False).head(5)\n",
    "print(top5_auth_by_posts)"
   ]
  },
  {
   "cell_type": "code",
   "execution_count": 170,
   "metadata": {},
   "outputs": [],
   "source": [
    "def draw_barplot(S, xlab, ylab, plot_title):\n",
    "    fig, ax = plt.subplots()\n",
    "    ax = sns.barplot(y = S.index, x = S.values)\n",
    "    # ax.set_xticklabels(ax.get_xticklabels(), rotation = 45)\n",
    "    ax.set_xlabel(xlab)\n",
    "    ax.set_ylabel(ylab)\n",
    "    ax.set_title(plot_title)\n",
    "    plt.tight_layout()\n",
    "    plt.show()\n",
    "    \n",
    "    return"
   ]
  },
  {
   "cell_type": "code",
   "execution_count": 173,
   "metadata": {},
   "outputs": [
    {
     "data": {
      "image/png": "[encoded data removed]",
      "text/plain": [
       "<Figure size 432x288 with 1 Axes>"
      ]
     },
     "metadata": {
      "needs_background": "light"
     },
     "output_type": "display_data"
    }
   ],
   "source": [
    "draw_barplot(top5_auth_by_posts, ylab = 'Author', xlab='Count', \n",
    "             plot_title='Top 5 Authors by no. of posts')"
   ]
  },
  {
   "cell_type": "markdown",
   "metadata": {},
   "source": [
    "<b>Top 5 Titles by sum of score</b>"
   ]
  },
  {
   "cell_type": "code",
   "execution_count": 175,
   "metadata": {},
   "outputs": [
    {
     "name": "stdout",
     "output_type": "stream",
     "text": [
      "                                                   title  score_K\n",
      "29269                                           DATA_IRL   733.19\n",
      "55864  IMAGINE HAVING TO PAY MONEY TO SHARE YOUR DATA...   116.23\n",
      "62597  LET'S HEAR IT FOR THE LURKERS! THE VAST MAJORI...   105.25\n",
      "20856  CAUSE OF DEATH - REALITY VS. GOOGLE VS. MEDIA ...   101.45\n",
      "40371  GAZE AND FOOT PLACEMENT WHEN WALKING OVER ROUG...    99.61\n"
     ]
    }
   ],
   "source": [
    "# Title by score\n",
    "top5_titles_by_score = df.groupby('title').agg({'score':'sum'}).\\\n",
    "                            reset_index().\\\n",
    "                            sort_values('score', ascending=False).\\\n",
    "                            head(5)\n",
    "\n",
    "# convert scale of score to thousands\n",
    "top5_titles_by_score['score'] = top5_titles_by_score['score'] / 1000\n",
    "\n",
    "# rename column\n",
    "top5_titles_by_score.rename(columns = {'score': 'score_K'}, inplace = True)\n",
    "\n",
    "print(top5_titles_by_score)"
   ]
  },
  {
   "cell_type": "code",
   "execution_count": 176,
   "metadata": {},
   "outputs": [],
   "source": [
    "# Create a series for top 5 titles\n",
    "\n",
    "S = pd.Series(data = top5_titles_by_score['score_K'].values, \n",
    "              index = top5_titles_by_score.title)"
   ]
  },
  {
   "cell_type": "code",
   "execution_count": 177,
   "metadata": {},
   "outputs": [
    {
     "data": {
      "image/png": "[encoded data removed]",
      "text/plain": [
       "<Figure size 432x288 with 1 Axes>"
      ]
     },
     "metadata": {
      "needs_background": "light"
     },
     "output_type": "display_data"
    }
   ],
   "source": [
    "draw_barplot(S, ylab = 'Title', xlab='Total Score (thousands)', \n",
    "             plot_title='Top 5 Titles by total score')"
   ]
  },
  {
   "cell_type": "code",
   "execution_count": 179,
   "metadata": {},
   "outputs": [
    {
     "data": {
      "text/plain": [
       "90.0"
      ]
     },
     "execution_count": 179,
     "metadata": {},
     "output_type": "execute_result"
    }
   ],
   "source": [
    "# posts with upto 30 votes i.e. score\n",
    "\n",
    "np.round(sum(df['score'] <= 30)/len(df) * 100, 0)"
   ]
  },
  {
   "cell_type": "markdown",
   "metadata": {},
   "source": [
    "<b> Top 5 titles based on number of comments </b>"
   ]
  },
  {
   "cell_type": "code",
   "execution_count": 200,
   "metadata": {},
   "outputs": [
    {
     "name": "stdout",
     "output_type": "stream",
     "text": [
      "                                                    title  num_comments_K\n",
      "29269                                            DATA_IRL           60.32\n",
      "81668             POLICE KILLING RATES IN G7 MEMBERS [OC]           10.43\n",
      "68151   MILLENNIAL HOME OWNERSHIP SHRINKS AS STUDENT D...            9.79\n",
      "124609  WORST EPISODE EVER? THE MOST COMMONLY RATED SH...            9.18\n",
      "120066               WHAT'S GETTING CUT IN TRUMP'S BUDGET            8.77\n"
     ]
    }
   ],
   "source": [
    "top5_titles_by_numofcomments = df.groupby('title').agg({'num_comments':'sum'}).\\\n",
    "                                reset_index().sort_values('num_comments', ascending = False).\\\n",
    "                                head(5)\n",
    "# comments in thousands\n",
    "top5_titles_by_numofcomments['num_comments'] = top5_titles_by_numofcomments['num_comments'] /1000\n",
    "\n",
    "# rename column\n",
    "top5_titles_by_numofcomments.rename(columns = {'num_comments': 'num_comments_K'}, inplace=True)\n",
    "\n",
    "\n",
    "print(top5_titles_by_numofcomments)                                                                                   "
   ]
  },
  {
   "cell_type": "code",
   "execution_count": 201,
   "metadata": {},
   "outputs": [],
   "source": [
    "# Create a series for top 5 titles by sum of num_of_comments\n",
    "\n",
    "S = pd.Series(data = top5_titles_by_numofcomments['num_comments_K'].values,\n",
    "             index = top5_titles_by_numofcomments.title)"
   ]
  },
  {
   "cell_type": "code",
   "execution_count": 202,
   "metadata": {},
   "outputs": [
    {
     "data": {
      "image/png": "[encoded data removed]",
      "text/plain": [
       "<Figure size 432x288 with 1 Axes>"
      ]
     },
     "metadata": {
      "needs_background": "light"
     },
     "output_type": "display_data"
    }
   ],
   "source": [
    "draw_barplot(S, ylab = 'Title', xlab='Total Comments (thousands)', \n",
    "             plot_title='Top 5 Titles by total comments')"
   ]
  },
  {
   "cell_type": "markdown",
   "metadata": {},
   "source": [
    "<b> Convert created_utc into date time format </b>"
   ]
  },
  {
   "cell_type": "code",
   "execution_count": 204,
   "metadata": {},
   "outputs": [],
   "source": [
    "df['created'] = pd.to_datetime(df['created_utc'], unit='s')"
   ]
  },
  {
   "cell_type": "code",
   "execution_count": 207,
   "metadata": {},
   "outputs": [
    {
     "data": {
      "text/plain": [
       "Timestamp('2012-02-14 23:50:56')"
      ]
     },
     "execution_count": 207,
     "metadata": {},
     "output_type": "execute_result"
    }
   ],
   "source": [
    "min(df['created'])"
   ]
  },
  {
   "cell_type": "code",
   "execution_count": 208,
   "metadata": {},
   "outputs": [
    {
     "data": {
      "text/plain": [
       "Timestamp('2020-06-19 11:15:17')"
      ]
     },
     "execution_count": 208,
     "metadata": {},
     "output_type": "execute_result"
    }
   ],
   "source": [
    "max(df['created'])"
   ]
  },
  {
   "cell_type": "code",
   "execution_count": 214,
   "metadata": {},
   "outputs": [],
   "source": [
    "# No. of posts on daily basis\n",
    "S = df.groupby(df['created'].dt.date).size()"
   ]
  },
  {
   "cell_type": "code",
   "execution_count": 223,
   "metadata": {},
   "outputs": [
    {
     "data": {
      "image/png": "[encoded data removed]",
      "text/plain": [
       "<Figure size 432x288 with 1 Axes>"
      ]
     },
     "metadata": {
      "needs_background": "light"
     },
     "output_type": "display_data"
    }
   ],
   "source": [
    "sns.lineplot(S.index, S.values)\n",
    "plt.show()"
   ]
  },
  {
   "cell_type": "code",
   "execution_count": 227,
   "metadata": {},
   "outputs": [
    {
     "data": {
      "text/plain": [
       "created\n",
       "2019-04-01    851\n",
       "2017-04-01    635\n",
       "2020-04-02    338\n",
       "2020-03-22    279\n",
       "2020-04-01    276\n",
       "dtype: int64"
      ]
     },
     "execution_count": 227,
     "metadata": {},
     "output_type": "execute_result"
    }
   ],
   "source": [
    "# top 5 dates based on no. of posts\n",
    "S.sort_values(ascending = False).head(5)"
   ]
  },
  {
   "cell_type": "code",
   "execution_count": 229,
   "metadata": {},
   "outputs": [
    {
     "data": {
      "text/plain": [
       "over_18\n",
       "False   99.51\n",
       "True     0.49\n",
       "dtype: float64"
      ]
     },
     "execution_count": 229,
     "metadata": {},
     "output_type": "execute_result"
    }
   ],
   "source": [
    "# Over_18 , what percent of data is over_18\n",
    "(df.groupby('over_18').size()/len(df)) * 100"
   ]
  },
  {
   "cell_type": "code",
   "execution_count": 238,
   "metadata": {},
   "outputs": [
    {
     "data": {
      "text/plain": [
       "<matplotlib.axes._subplots.AxesSubplot at 0x1f1670de3c8>"
      ]
     },
     "execution_count": 238,
     "metadata": {},
     "output_type": "execute_result"
    },
    {
     "data": {
      "image/png": "[encoded data removed]",
      "text/plain": [
       "<Figure size 432x288 with 1 Axes>"
      ]
     },
     "metadata": {
      "needs_background": "light"
     },
     "output_type": "display_data"
    }
   ],
   "source": [
    "sns.scatterplot(x = df['num_comments']/1000, y=df['score']/1000, data = df[df.num_comments < 18801],\n",
    "               hue = 'over_18')"
   ]
  }
 ],
 "metadata": {
  "kernelspec": {
   "display_name": "Python3_6",
   "language": "python",
   "name": "test_env_3"
  },
  "language_info": {
   "codemirror_mode": {
    "name": "ipython",
    "version": 3
   },
   "file_extension": ".py",
   "mimetype": "text/x-python",
   "name": "python",
   "nbconvert_exporter": "python",
   "pygments_lexer": "ipython3",
   "version": "3.6.10"
  }
 },
 "nbformat": 4,
 "nbformat_minor": 4
}
